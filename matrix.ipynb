{
 "cells": [
  {
   "cell_type": "code",
   "execution_count": 16,
   "metadata": {},
   "outputs": [
    {
     "name": "stdout",
     "output_type": "stream",
     "text": [
      "[[ 0.  0.  0.]\n",
      " [ 0.  0.  0.]\n",
      " [ 0.  0.  0.]]\n",
      "[[1 2 3]\n",
      " [4 5 6]\n",
      " [7 8 9]\n",
      " [6 7 8]]\n",
      "[[1]\n",
      " [2]\n",
      " [3]]\n",
      "(4, 3)\n",
      "(3, 1)\n",
      "(array([0]), array([2]))\n",
      "(array([1, 3]), array([2, 0]))\n"
     ]
    }
   ],
   "source": [
    "import numpy\n",
    "import numpy as np\n",
    "\n",
    "a = numpy.zeros((3,3))\n",
    "b = numpy.matrix('1 2 3; 4 5 6; 7 8 9; 6 7 8')\n",
    "c = numpy.matrix('1; 2; 3')\n",
    "\n",
    "print a\n",
    "print b\n",
    "print c\n",
    "print b.shape\n",
    "print c.shape\n",
    "print np.where(b==3)\n",
    "print np.where(b==6)\n"
   ]
  },
  {
   "cell_type": "code",
   "execution_count": 32,
   "metadata": {},
   "outputs": [
    {
     "name": "stdout",
     "output_type": "stream",
     "text": [
      "[[1 2 3]\n",
      " [3 2 1]]\n",
      "[[5 6 7]\n",
      " [1 2 4]]\n",
      "2\n",
      "[[ 6  8 10]]\n",
      "[[2 4 7]]\n",
      "[[8 8 8]]\n",
      "[[4 4 5]]\n"
     ]
    }
   ],
   "source": [
    "X = numpy.matrix('1 2 3; 3 2 1')\n",
    "print X\n",
    "Y = numpy.matrix('5 6 7; 1 2 4')\n",
    "print Y\n",
    "print len(X)\n",
    "\n",
    "for i in range(len(X)):\n",
    "    for j in range(len(Y)):\n",
    "        result = (X[i] + Y[j])\n",
    "        print result"
   ]
  },
  {
   "cell_type": "code",
   "execution_count": null,
   "metadata": {
    "collapsed": true
   },
   "outputs": [],
   "source": []
  }
 ],
 "metadata": {
  "kernelspec": {
   "display_name": "Python 2",
   "language": "python",
   "name": "python2"
  },
  "language_info": {
   "codemirror_mode": {
    "name": "ipython",
    "version": 2
   },
   "file_extension": ".py",
   "mimetype": "text/x-python",
   "name": "python",
   "nbconvert_exporter": "python",
   "pygments_lexer": "ipython2",
   "version": "2.7.13"
  }
 },
 "nbformat": 4,
 "nbformat_minor": 2
}
